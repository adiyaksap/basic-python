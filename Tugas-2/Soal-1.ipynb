{
 "cells": [
  {
   "cell_type": "code",
   "execution_count": 31,
   "metadata": {},
   "outputs": [
    {
     "name": "stdout",
     "output_type": "stream",
     "text": [
      "Selamat Datang!\n",
      "---Menu---\n",
      "1. Daftar Kontak\n",
      "2. Tambah Kontak\n",
      "3. Keluar\n",
      "Pilih Menu: 2\n",
      "Nama: Tama\n",
      "No Telepon:  12345\n",
      "\n",
      "Kontak berhasil ditambahkan\n",
      "\n",
      "\n",
      "Nama: Farhan\n",
      "No Telepon: 08123456789\n",
      "\n",
      "Nama: Joko\n",
      "No Telepon: 08987654321\n",
      "\n",
      "Nama: Tama\n",
      "No Telepon: 12345\n"
     ]
    }
   ],
   "source": [
    "#Sambutan\n",
    "salam = \"Selamat Datang!\"\n",
    "print(salam)\n",
    "\n",
    "#Menu\n",
    "print(\"---Menu---\")\n",
    "\n",
    "menu = {1:'Daftar Kontak', 2:'Tambah Kontak', 3:'Keluar'}\n",
    "for key, value in menu.items():\n",
    "    print(key, value, sep = '. ')\n",
    "\n",
    "#input menu\n",
    "\n",
    "input_menu = int(input(\"Pilih Menu: \"))\n",
    "\n",
    "\n",
    "daftar_kontak = {\n",
    "    1: {\n",
    "        'Nama':'Farhan', 'No Telepon': '08123456789'      \n",
    "    },\n",
    "    2: {\n",
    "        'Nama':'Joko', 'No Telepon':'08987654321'\n",
    "    }\n",
    "}\n",
    "\n",
    "\n",
    "if input_menu == 1: \n",
    "    print(\"Daftar Kontak: \")\n",
    "    for key, value in daftar_kontak.items():\n",
    "        print()\n",
    "        for key2 in value:\n",
    "            print(key2, value[key2], sep = ': ')\n",
    "elif input_menu == 2:\n",
    "    input_nama = input(\"Nama: \")\n",
    "    input_telp = input(\"No Telepon:  \")\n",
    "    daftar_kontak[3] = {'Nama' : input_nama , 'No Telepon' : input_telp}\n",
    "    print()\n",
    "    print(\"Kontak berhasil ditambahkan\")\n",
    "    print()\n",
    "    for key, value in daftar_kontak.items():\n",
    "        print()\n",
    "        for key2 in value:\n",
    "            print(key2, value[key2], sep = ': ')\n",
    "elif input_menu == 3:\n",
    "    print(\"Program selesai, sampai jumpa!\")\n",
    "else:\n",
    "    print(\"Menu tidak tersedia\")\n",
    "    \n",
    "\n",
    "    \n",
    "\n",
    "\n",
    "    \n",
    "        \n",
    "\n",
    " \n",
    "    \n",
    "\n",
    "\n",
    "    \n",
    "\n"
   ]
  },
  {
   "cell_type": "markdown",
   "metadata": {},
   "source": []
  },
  {
   "cell_type": "code",
   "execution_count": null,
   "metadata": {},
   "outputs": [],
   "source": []
  }
 ],
 "metadata": {
  "kernelspec": {
   "display_name": "Python 3",
   "language": "python",
   "name": "python3"
  },
  "language_info": {
   "codemirror_mode": {
    "name": "ipython",
    "version": 3
   },
   "file_extension": ".py",
   "mimetype": "text/x-python",
   "name": "python",
   "nbconvert_exporter": "python",
   "pygments_lexer": "ipython3",
   "version": "3.9.0"
  }
 },
 "nbformat": 4,
 "nbformat_minor": 4
}
