{
 "cells": [
  {
   "cell_type": "code",
   "execution_count": 2,
   "metadata": {},
   "outputs": [
    {
     "name": "stdout",
     "output_type": "stream",
     "text": [
      "r = 17\n",
      "Luas lingkaran dengan jari-jari 17 adalah 908.2857142857142 cm²\n"
     ]
    }
   ],
   "source": [
    "# Luas Lingkaran\n",
    "pi = 22/7\n",
    "Jari_jari_lingkaran = int(input(\"r = \"))\n",
    "Luas_lingkaran = pi*(Jari_jari_lingkaran)**2\n",
    "Luas_lingkaran_hasil = float(Luas_lingkaran)\n",
    "if Jari_jari_lingkaran % 7 == 0:\n",
    "    print(\"Luas lingkaran dengan jari-jari %d adalah %.1f cm\\u00b2\" % (Jari_jari_lingkaran, Luas_lingkaran_hasil ))\n",
    "else:\n",
    "    print(\"Luas lingkaran dengan jari-jari %d adalah %.13f cm\\u00b2\" % (Jari_jari_lingkaran, Luas_lingkaran_hasil ))\n",
    "\n"
   ]
  },
  {
   "cell_type": "code",
   "execution_count": 3,
   "metadata": {},
   "outputs": [
    {
     "name": "stdout",
     "output_type": "stream",
     "text": [
      "r = 10\n",
      "Luas lingkaran dengan jari-jari 10 adalah 314.29 cm²\n"
     ]
    }
   ],
   "source": [
    "#Bonus\n",
    "pi = 22/7\n",
    "Jari_jari_lingkaran = int(input(\"r = \"))\n",
    "Luas_lingkaran = pi*(Jari_jari_lingkaran)**2\n",
    "Luas_lingkaran_hasil = float(Luas_lingkaran)\n",
    "print(\"Luas lingkaran dengan jari-jari %d adalah %.2f cm\\u00b2\" % (Jari_jari_lingkaran, Luas_lingkaran_hasil ))\n",
    "\n"
   ]
  },
  {
   "cell_type": "code",
   "execution_count": null,
   "metadata": {},
   "outputs": [],
   "source": []
  }
 ],
 "metadata": {
  "kernelspec": {
   "display_name": "Python 3",
   "language": "python",
   "name": "python3"
  },
  "language_info": {
   "codemirror_mode": {
    "name": "ipython",
    "version": 3
   },
   "file_extension": ".py",
   "mimetype": "text/x-python",
   "name": "python",
   "nbconvert_exporter": "python",
   "pygments_lexer": "ipython3",
   "version": "3.9.0"
  }
 },
 "nbformat": 4,
 "nbformat_minor": 4
}
