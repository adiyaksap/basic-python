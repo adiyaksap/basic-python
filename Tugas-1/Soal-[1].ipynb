{
 "cells": [
  {
   "cell_type": "code",
   "execution_count": 19,
   "metadata": {},
   "outputs": [
    {
     "name": "stdout",
     "output_type": "stream",
     "text": [
      "Nama:Tama\n",
      "Umur:22\n",
      "Tinggi:170.6\n",
      "Nama saya Tama, umur saya 22 tahun dan tinggi saya 170.6 cm.\n"
     ]
    }
   ],
   "source": [
    "Nama = input(\"Nama:\")\n",
    "Umur = int(input(\"Umur:\"))\n",
    "Tinggi = float(input(\"Tinggi:\"))\n",
    "print(\"Nama saya %s, umur saya %d tahun dan tinggi saya %.1f cm.\" % (Nama, Umur, Tinggi))"
   ]
  },
  {
   "cell_type": "code",
   "execution_count": null,
   "metadata": {},
   "outputs": [],
   "source": []
  },
  {
   "cell_type": "code",
   "execution_count": null,
   "metadata": {},
   "outputs": [],
   "source": []
  }
 ],
 "metadata": {
  "kernelspec": {
   "display_name": "Python 3",
   "language": "python",
   "name": "python3"
  },
  "language_info": {
   "codemirror_mode": {
    "name": "ipython",
    "version": 3
   },
   "file_extension": ".py",
   "mimetype": "text/x-python",
   "name": "python",
   "nbconvert_exporter": "python",
   "pygments_lexer": "ipython3",
   "version": "3.9.0"
  }
 },
 "nbformat": 4,
 "nbformat_minor": 4
}
