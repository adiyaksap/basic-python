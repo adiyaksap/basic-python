{
 "cells": [
  {
   "cell_type": "markdown",
   "metadata": {},
   "source": [
    "## Penggabungan Kondisi "
   ]
  },
  {
   "cell_type": "markdown",
   "metadata": {},
   "source": [
    "### And"
   ]
  },
  {
   "cell_type": "code",
   "execution_count": 2,
   "metadata": {},
   "outputs": [
    {
     "name": "stdout",
     "output_type": "stream",
     "text": [
      "Pukul berapa sekarang?12\n",
      "Selamat Siang!\n"
     ]
    }
   ],
   "source": [
    "# Input Jam\n",
    "jam = int(input(\"Pukul berapa sekarang?\"))\n",
    "\n",
    "#Pagi : 5 - 11\n",
    "#Siang : 11 - 15\n",
    "#Sore : 15 - 18\n",
    "#Malam : 18 - 4\n",
    "\n",
    "# Kondisi\n",
    "\n",
    "if jam >= 5 and  jam <= 11:\n",
    "    print(\"Selamat Pagi!\")\n",
    "elif jam > 11 and jam <= 15:\n",
    "    print(\"Selamat Siang!\")\n",
    "elif jam > 15 and jam <= 18:\n",
    "    print(\"Selamat Sore!\")\n",
    "else:\n",
    "    print(\"Selamat Malam!\")"
   ]
  },
  {
   "cell_type": "code",
   "execution_count": 3,
   "metadata": {},
   "outputs": [
    {
     "name": "stdout",
     "output_type": "stream",
     "text": [
      "Halo\n"
     ]
    }
   ],
   "source": [
    "# Shorthand AND\n",
    "\n",
    "angka = 5 \n",
    "if 4 < angka < 6: \n",
    "    print(\"Halo\")\n",
    "else: \n",
    "    print(\"Else\")"
   ]
  },
  {
   "cell_type": "markdown",
   "metadata": {},
   "source": [
    "### Or"
   ]
  },
  {
   "cell_type": "code",
   "execution_count": 4,
   "metadata": {},
   "outputs": [
    {
     "name": "stdout",
     "output_type": "stream",
     "text": [
      "True\n"
     ]
    }
   ],
   "source": [
    "# True or true\n",
    "if 6 < 7 or 8 < 9:\n",
    "    print(\"True\")"
   ]
  },
  {
   "cell_type": "code",
   "execution_count": 5,
   "metadata": {},
   "outputs": [
    {
     "name": "stdout",
     "output_type": "stream",
     "text": [
      "One of Them are True\n"
     ]
    }
   ],
   "source": [
    "# True or false\n",
    "if 6 < 7 or 8 > 9:\n",
    "    print(\"One of Them are True\")"
   ]
  },
  {
   "cell_type": "markdown",
   "metadata": {},
   "source": [
    "## Not"
   ]
  },
  {
   "cell_type": "code",
   "execution_count": 6,
   "metadata": {},
   "outputs": [
    {
     "name": "stdout",
     "output_type": "stream",
     "text": [
      "True\n"
     ]
    }
   ],
   "source": [
    "num = 6\n",
    "if not(num == 9):\n",
    "    print(\"True\")"
   ]
  },
  {
   "cell_type": "code",
   "execution_count": 7,
   "metadata": {},
   "outputs": [
    {
     "name": "stdout",
     "output_type": "stream",
     "text": [
      "True\n"
     ]
    }
   ],
   "source": [
    "x = False\n",
    "print (not x)"
   ]
  },
  {
   "cell_type": "code",
   "execution_count": 10,
   "metadata": {},
   "outputs": [
    {
     "name": "stdout",
     "output_type": "stream",
     "text": [
      "C not in list\n"
     ]
    }
   ],
   "source": [
    "li = ['A', 'B', 'C']\n",
    "if('D' not in li):\n",
    "    print('C not in list')\n",
    "else:\n",
    "    print('C di dalam list')"
   ]
  },
  {
   "cell_type": "code",
   "execution_count": 12,
   "metadata": {},
   "outputs": [
    {
     "name": "stdout",
     "output_type": "stream",
     "text": [
      "Angka: 140\n",
      "140 Tidak ada di dalam list\n"
     ]
    }
   ],
   "source": [
    "masukkan = int(input(\"Angka: \"))\n",
    "li = [1,2,3,4,5,6,7,8,9,10]\n",
    "if (masukkan not in li):\n",
    "    print(masukkan, \"Tidak ada di dalam list\")\n",
    "else:\n",
    "    print(masukkan, \"Ada di dalam list\")"
   ]
  },
  {
   "cell_type": "markdown",
   "metadata": {},
   "source": [
    "## Is"
   ]
  },
  {
   "cell_type": "code",
   "execution_count": 13,
   "metadata": {},
   "outputs": [
    {
     "name": "stdout",
     "output_type": "stream",
     "text": [
      "8 adalah int\n"
     ]
    }
   ],
   "source": [
    "angka = 8\n",
    "if (type(angka) is int):\n",
    "    print(angka, \"adalah int\")\n",
    "else:\n",
    "    print(angka, \"bukan int\")"
   ]
  },
  {
   "cell_type": "markdown",
   "metadata": {},
   "source": [
    "# Random"
   ]
  },
  {
   "cell_type": "code",
   "execution_count": 18,
   "metadata": {},
   "outputs": [
    {
     "name": "stdout",
     "output_type": "stream",
     "text": [
      "78\n"
     ]
    }
   ],
   "source": [
    "from random import randint \n",
    "\n",
    "print(randint(1,100))"
   ]
  },
  {
   "cell_type": "code",
   "execution_count": 22,
   "metadata": {},
   "outputs": [
    {
     "name": "stdout",
     "output_type": "stream",
     "text": [
      "61\n"
     ]
    }
   ],
   "source": [
    "from random import randrange\n",
    "\n",
    "print(randrange(1, 100, 10))"
   ]
  },
  {
   "cell_type": "markdown",
   "metadata": {},
   "source": [
    "# List"
   ]
  },
  {
   "cell_type": "code",
   "execution_count": 28,
   "metadata": {},
   "outputs": [
    {
     "name": "stdout",
     "output_type": "stream",
     "text": [
      "['Bakso', 'Cireng']\n"
     ]
    }
   ],
   "source": [
    "list_satu = ['Bakso', 'Cireng', 'Telor Gulung', 'Pentol']\n",
    "#Memanggil salah satu nilai list\n",
    "print(list_satu[:2])"
   ]
  },
  {
   "cell_type": "code",
   "execution_count": 31,
   "metadata": {},
   "outputs": [
    {
     "name": "stdout",
     "output_type": "stream",
     "text": [
      "['Cireng', 'Batagor', 'Pentol']\n",
      "Siomay\n"
     ]
    }
   ],
   "source": [
    "# Mengedit value\n",
    "list_satu[2] = 'Batagor'\n",
    "print(list_satu[1:4])\n",
    "list_satu[1] = 'Siomay'\n",
    "print(list_satu[1])"
   ]
  },
  {
   "cell_type": "code",
   "execution_count": 33,
   "metadata": {},
   "outputs": [
    {
     "name": "stdout",
     "output_type": "stream",
     "text": [
      "['Bakso', 'Siomay', 'Batagor', 'Pentol', 'Mie Ayam', 'Mie Ayam']\n",
      "['Bakso', 'Siomay', 'Batagor', 'Pentol', 'Mie Ayam', 'Mie Ayam', 'Kebab']\n"
     ]
    }
   ],
   "source": [
    "# Menambahkan Value\n",
    "list_satu.append(\"Mie Ayam\")\n",
    "print(list_satu)\n",
    "list_satu.append(\"Kebab\")\n",
    "print(list_satu)"
   ]
  },
  {
   "cell_type": "code",
   "execution_count": 34,
   "metadata": {},
   "outputs": [
    {
     "name": "stdout",
     "output_type": "stream",
     "text": [
      "['Bakso', 'Siomay', 'Batagor', 'Mie Ayam', 'Mie Ayam', 'Kebab']\n"
     ]
    }
   ],
   "source": [
    "# Menghapus nilai\n",
    "del list_satu[3]\n",
    "print(list_satu)"
   ]
  },
  {
   "cell_type": "code",
   "execution_count": 37,
   "metadata": {},
   "outputs": [
    {
     "name": "stdout",
     "output_type": "stream",
     "text": [
      "Saya suka: Bakso\n",
      "Saya suka: Siomay\n",
      "Saya suka: Batagor\n",
      "Saya suka: Mie Ayam\n",
      "Saya suka: Mie Ayam\n",
      "Saya suka: Kebab\n"
     ]
    }
   ],
   "source": [
    "# looping list\n",
    "for makanan in list_satu:\n",
    "    print(\"Saya suka\" ,makanan, sep=': ')"
   ]
  },
  {
   "cell_type": "markdown",
   "metadata": {},
   "source": [
    "# Dictionary"
   ]
  },
  {
   "cell_type": "code",
   "execution_count": 38,
   "metadata": {},
   "outputs": [
    {
     "name": "stdout",
     "output_type": "stream",
     "text": [
      "{'Nama': 'Budiman', 'Umur': '20', 'Profesi': 'DevOps'}\n"
     ]
    }
   ],
   "source": [
    "bio = {'Nama': 'Budiman', 'Umur':'20', 'Profesi':'DevOps'}\n",
    "print(bio)"
   ]
  },
  {
   "cell_type": "code",
   "execution_count": 42,
   "metadata": {},
   "outputs": [
    {
     "name": "stdout",
     "output_type": "stream",
     "text": [
      "Budiman\n",
      "20\n",
      "DevOps\n"
     ]
    }
   ],
   "source": [
    "print(bio['Nama'])\n",
    "print(bio['Umur'])\n",
    "print(bio['Profesi'])"
   ]
  },
  {
   "cell_type": "code",
   "execution_count": 44,
   "metadata": {},
   "outputs": [
    {
     "name": "stdout",
     "output_type": "stream",
     "text": [
      "Nama: Budiman\n",
      "Umur: 20\n",
      "Profesi: DevOps\n"
     ]
    }
   ],
   "source": [
    "for key, value in bio.items():\n",
    "    print(key, value, sep =': ')"
   ]
  },
  {
   "cell_type": "code",
   "execution_count": 50,
   "metadata": {},
   "outputs": [
    {
     "name": "stdout",
     "output_type": "stream",
     "text": [
      "{'Nama': 'Budiman', 'Umur': '20', 'Profesi': 'DevOps'}\n",
      "{'Nama': 'Abraham', 'Umur': '24', 'Profesi': 'Chef'}\n",
      "{'Nama': 'Abraham', 'Umur': '24', 'Profesi': 'Manager'}\n"
     ]
    }
   ],
   "source": [
    "#Dictionary bercabang\n",
    "pelanggan = {\n",
    "    1:{\n",
    "        'Nama': 'Budiman', 'Umur': '20', 'Profesi': 'DevOps'\n",
    "    },\n",
    "    2:{\n",
    "        'Nama': 'Abraham', 'Umur': '24', 'Profesi': 'Chef'\n",
    "    },\n",
    "    3:{\n",
    "        'Nama': 'Abraham', 'Umur': '24', 'Profesi': 'Manager'\n",
    "    }\n",
    "}\n",
    "print(pelanggan[1])\n",
    "print(pelanggan[2])\n",
    "print(pelanggan[3])"
   ]
  },
  {
   "cell_type": "code",
   "execution_count": 55,
   "metadata": {},
   "outputs": [
    {
     "name": "stdout",
     "output_type": "stream",
     "text": [
      "Pelanggan ke- 1\n",
      "Nama: Budiman\n",
      "Umur: 20\n",
      "Profesi: DevOps\n",
      "\n",
      "Pelanggan ke- 2\n",
      "Nama: Abraham\n",
      "Umur: 24\n",
      "Profesi: Chef\n",
      "\n",
      "Pelanggan ke- 3\n",
      "Nama: Abraham\n",
      "Umur: 24\n",
      "Profesi: Manager\n",
      "\n"
     ]
    }
   ],
   "source": [
    "#Looping\n",
    "for key, value in pelanggan.items():\n",
    "    print(\"Pelanggan ke-\", key)\n",
    "    #looping\n",
    "    for key2 in value:\n",
    "        print(key2, value[key2], sep=': ')\n",
    "    print()"
   ]
  },
  {
   "cell_type": "markdown",
   "metadata": {},
   "source": [
    "# Tuple"
   ]
  },
  {
   "cell_type": "code",
   "execution_count": 57,
   "metadata": {},
   "outputs": [
    {
     "name": "stdout",
     "output_type": "stream",
     "text": [
      "('Gajah', 'Badak', 'Jerapah')\n",
      "<class 'tuple'>\n"
     ]
    }
   ],
   "source": [
    "tup = ('Gajah', 'Badak', 'Jerapah' )\n",
    "print(tup)\n",
    "print(type(tup))"
   ]
  },
  {
   "cell_type": "code",
   "execution_count": 58,
   "metadata": {},
   "outputs": [
    {
     "ename": "AttributeError",
     "evalue": "'tuple' object has no attribute 'append'",
     "output_type": "error",
     "traceback": [
      "\u001b[1;31m---------------------------------------------------------------------------\u001b[0m",
      "\u001b[1;31mAttributeError\u001b[0m                            Traceback (most recent call last)",
      "\u001b[1;32m<ipython-input-58-7c8c637b740d>\u001b[0m in \u001b[0;36m<module>\u001b[1;34m\u001b[0m\n\u001b[1;32m----> 1\u001b[1;33m \u001b[0mtup\u001b[0m\u001b[1;33m.\u001b[0m\u001b[0mappend\u001b[0m\u001b[1;33m(\u001b[0m\u001b[1;34m'Kucing'\u001b[0m\u001b[1;33m)\u001b[0m\u001b[1;33m\u001b[0m\u001b[1;33m\u001b[0m\u001b[0m\n\u001b[0m",
      "\u001b[1;31mAttributeError\u001b[0m: 'tuple' object has no attribute 'append'"
     ]
    }
   ],
   "source": [
    "tup.append('Kucing')"
   ]
  },
  {
   "cell_type": "code",
   "execution_count": 59,
   "metadata": {},
   "outputs": [
    {
     "ename": "TypeError",
     "evalue": "'tuple' object doesn't support item deletion",
     "output_type": "error",
     "traceback": [
      "\u001b[1;31m---------------------------------------------------------------------------\u001b[0m",
      "\u001b[1;31mTypeError\u001b[0m                                 Traceback (most recent call last)",
      "\u001b[1;32m<ipython-input-59-c7888f99c820>\u001b[0m in \u001b[0;36m<module>\u001b[1;34m\u001b[0m\n\u001b[1;32m----> 1\u001b[1;33m \u001b[1;32mdel\u001b[0m \u001b[0mtup\u001b[0m\u001b[1;33m[\u001b[0m\u001b[1;36m2\u001b[0m\u001b[1;33m]\u001b[0m\u001b[1;33m\u001b[0m\u001b[1;33m\u001b[0m\u001b[0m\n\u001b[0m",
      "\u001b[1;31mTypeError\u001b[0m: 'tuple' object doesn't support item deletion"
     ]
    }
   ],
   "source": [
    "del tup[2]"
   ]
  },
  {
   "cell_type": "code",
   "execution_count": 60,
   "metadata": {},
   "outputs": [
    {
     "ename": "TypeError",
     "evalue": "'tuple' object does not support item assignment",
     "output_type": "error",
     "traceback": [
      "\u001b[1;31m---------------------------------------------------------------------------\u001b[0m",
      "\u001b[1;31mTypeError\u001b[0m                                 Traceback (most recent call last)",
      "\u001b[1;32m<ipython-input-60-c726f16c336a>\u001b[0m in \u001b[0;36m<module>\u001b[1;34m\u001b[0m\n\u001b[1;32m----> 1\u001b[1;33m \u001b[0mtup\u001b[0m\u001b[1;33m[\u001b[0m\u001b[1;36m0\u001b[0m\u001b[1;33m]\u001b[0m\u001b[1;33m=\u001b[0m \u001b[1;34m\"Ayam\"\u001b[0m\u001b[1;33m\u001b[0m\u001b[1;33m\u001b[0m\u001b[0m\n\u001b[0m",
      "\u001b[1;31mTypeError\u001b[0m: 'tuple' object does not support item assignment"
     ]
    }
   ],
   "source": [
    "tup[0]= \"Ayam\""
   ]
  },
  {
   "cell_type": "code",
   "execution_count": 61,
   "metadata": {},
   "outputs": [
    {
     "name": "stdout",
     "output_type": "stream",
     "text": [
      "3\n"
     ]
    }
   ],
   "source": [
    "print(len(tup))"
   ]
  },
  {
   "cell_type": "code",
   "execution_count": 62,
   "metadata": {},
   "outputs": [
    {
     "name": "stdout",
     "output_type": "stream",
     "text": [
      "Badak\n"
     ]
    }
   ],
   "source": [
    "print(tup[1])"
   ]
  },
  {
   "cell_type": "code",
   "execution_count": 63,
   "metadata": {},
   "outputs": [
    {
     "name": "stdout",
     "output_type": "stream",
     "text": [
      "['Gajah', 'Badak', 'Jerapah']\n"
     ]
    }
   ],
   "source": [
    "#convert\n",
    "tup_2 = list(tup)\n",
    "print(tup_2)"
   ]
  },
  {
   "cell_type": "code",
   "execution_count": 67,
   "metadata": {},
   "outputs": [
    {
     "name": "stdout",
     "output_type": "stream",
     "text": [
      "['Gajah', 'Kucing', 'Jerapah']\n",
      "('Gajah', 'Kucing', 'Jerapah')\n"
     ]
    }
   ],
   "source": [
    "tup_2[1] = 'Kucing'\n",
    "print(tup_2)\n",
    "tup_3 = tuple(tup_2)\n",
    "print(tup_3)"
   ]
  },
  {
   "cell_type": "markdown",
   "metadata": {},
   "source": [
    "# Set"
   ]
  },
  {
   "cell_type": "code",
   "execution_count": 69,
   "metadata": {},
   "outputs": [
    {
     "name": "stdout",
     "output_type": "stream",
     "text": [
      "{'Vaduz', 'Sofia', 'Berlin', 'Tallin', 'Warsaw', 'Cairo'} <class 'set'>\n"
     ]
    }
   ],
   "source": [
    "set_satu = {'Berlin', 'Cairo', 'Tallin', 'Warsaw', 'Vaduz', 'Sofia'}\n",
    "print(set_satu, type(set_satu))"
   ]
  },
  {
   "cell_type": "code",
   "execution_count": 70,
   "metadata": {},
   "outputs": [
    {
     "ename": "TypeError",
     "evalue": "'set' object is not subscriptable",
     "output_type": "error",
     "traceback": [
      "\u001b[1;31m---------------------------------------------------------------------------\u001b[0m",
      "\u001b[1;31mTypeError\u001b[0m                                 Traceback (most recent call last)",
      "\u001b[1;32m<ipython-input-70-76e26ec1c376>\u001b[0m in \u001b[0;36m<module>\u001b[1;34m\u001b[0m\n\u001b[1;32m----> 1\u001b[1;33m \u001b[0mprint\u001b[0m\u001b[1;33m(\u001b[0m\u001b[0mset_satu\u001b[0m\u001b[1;33m[\u001b[0m\u001b[1;36m1\u001b[0m\u001b[1;33m]\u001b[0m\u001b[1;33m)\u001b[0m\u001b[1;33m\u001b[0m\u001b[1;33m\u001b[0m\u001b[0m\n\u001b[0m",
      "\u001b[1;31mTypeError\u001b[0m: 'set' object is not subscriptable"
     ]
    }
   ],
   "source": [
    "print(set_satu[1])"
   ]
  },
  {
   "cell_type": "code",
   "execution_count": 71,
   "metadata": {},
   "outputs": [
    {
     "name": "stdout",
     "output_type": "stream",
     "text": [
      "{1, 2, 3, 4, 5, 6, 7, 8, 9}\n"
     ]
    }
   ],
   "source": [
    "set_angka = {1,2,2,3,3,4,5,6,6,5,7,9,8}\n",
    "print(set_angka)"
   ]
  },
  {
   "cell_type": "code",
   "execution_count": 72,
   "metadata": {},
   "outputs": [
    {
     "name": "stdout",
     "output_type": "stream",
     "text": [
      "{'Vaduz', 'Sofia', 'Berlin', 'Tallin', 'Warsaw', 'Cairo'}\n"
     ]
    }
   ],
   "source": [
    "set_kota = {'Berlin', 'Cairo', 'Tallin', 'Warsaw', 'Vaduz', 'Sofia', 'Berlin', 'Sofia', 'Cairo'}\n",
    "print(set_kota)"
   ]
  },
  {
   "cell_type": "code",
   "execution_count": 74,
   "metadata": {},
   "outputs": [
    {
     "name": "stdout",
     "output_type": "stream",
     "text": [
      "{5, 6, 7, 8, 9, 10}\n",
      "{1, 2, 3, 4, 5, 6, 7, 8, 9, 10, 11, 12, 13, 14, 15, 16, 17, 18, 19, 20}\n"
     ]
    }
   ],
   "source": [
    "set_angka1 = {1,2,3,4,5,6,7,8,9,10}\n",
    "set_angka2 = {5,6,7,8,9,10,11,12,13,14,15,16,17,18,19,20}\n",
    "print(set_angka1 & set_angka2)\n",
    "print(set_angka1 | set_angka2)\n"
   ]
  },
  {
   "cell_type": "code",
   "execution_count": null,
   "metadata": {},
   "outputs": [],
   "source": []
  }
 ],
 "metadata": {
  "kernelspec": {
   "display_name": "Python 3",
   "language": "python",
   "name": "python3"
  },
  "language_info": {
   "codemirror_mode": {
    "name": "ipython",
    "version": 3
   },
   "file_extension": ".py",
   "mimetype": "text/x-python",
   "name": "python",
   "nbconvert_exporter": "python",
   "pygments_lexer": "ipython3",
   "version": "3.9.0"
  }
 },
 "nbformat": 4,
 "nbformat_minor": 4
}
