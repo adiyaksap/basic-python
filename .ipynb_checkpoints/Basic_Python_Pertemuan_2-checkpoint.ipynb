{
 "cells": [
  {
   "cell_type": "markdown",
   "metadata": {},
   "source": [
    "## Operasi String"
   ]
  },
  {
   "cell_type": "code",
   "execution_count": null,
   "metadata": {},
   "outputs": [],
   "source": []
  },
  {
   "cell_type": "markdown",
   "metadata": {},
   "source": [
    "### mengubah huruf besar/kecil"
   ]
  },
  {
   "cell_type": "code",
   "execution_count": null,
   "metadata": {},
   "outputs": [],
   "source": []
  },
  {
   "cell_type": "code",
   "execution_count": 1,
   "metadata": {},
   "outputs": [
    {
     "name": "stdout",
     "output_type": "stream",
     "text": [
      "BAYU\n"
     ]
    }
   ],
   "source": [
    "#Upper\n",
    "nama = \"bayu\"\n",
    "nama_cap = nama.upper()\n",
    "print(nama_cap)"
   ]
  },
  {
   "cell_type": "code",
   "execution_count": 2,
   "metadata": {},
   "outputs": [
    {
     "name": "stdout",
     "output_type": "stream",
     "text": [
      "budi\n"
     ]
    }
   ],
   "source": [
    "#lower\n",
    "nama = \"BUDI\"\n",
    "nama_low = nama.lower()\n",
    "print(nama_low)"
   ]
  },
  {
   "cell_type": "code",
   "execution_count": 3,
   "metadata": {},
   "outputs": [
    {
     "name": "stdout",
     "output_type": "stream",
     "text": [
      "budi\n"
     ]
    }
   ],
   "source": [
    "print(nama.lower())"
   ]
  },
  {
   "cell_type": "markdown",
   "metadata": {},
   "source": [
    "# Awalan Akhiran"
   ]
  },
  {
   "cell_type": "code",
   "execution_count": 4,
   "metadata": {},
   "outputs": [
    {
     "name": "stdout",
     "output_type": "stream",
     "text": [
      "Indonesia\n"
     ]
    }
   ],
   "source": [
    "#rstrip\n",
    "rstrip = \"Indonesia    \"\n",
    "print(rstrip.rstrip())"
   ]
  },
  {
   "cell_type": "code",
   "execution_count": 5,
   "metadata": {},
   "outputs": [
    {
     "name": "stdout",
     "output_type": "stream",
     "text": [
      "Indonesia\n"
     ]
    }
   ],
   "source": [
    "#lstrip\n",
    "lstrip = \"     Indonesia\"\n",
    "print(lstrip.lstrip())"
   ]
  },
  {
   "cell_type": "code",
   "execution_count": 6,
   "metadata": {},
   "outputs": [
    {
     "name": "stdout",
     "output_type": "stream",
     "text": [
      "Indonesia  Merdeka! \n"
     ]
    }
   ],
   "source": [
    "#strip\n",
    "strip = \"    Indonesia    \"\n",
    "strip_dua = \" Merdeka! \"\n",
    "print(strip.strip(),strip_dua)"
   ]
  },
  {
   "cell_type": "code",
   "execution_count": 7,
   "metadata": {},
   "outputs": [
    {
     "name": "stdout",
     "output_type": "stream",
     "text": [
      "AlosemuA\n"
     ]
    }
   ],
   "source": [
    "#strip => menghilangkan bagian kalimat tertentu\n",
    "word = \"HAlosemuA\"\n",
    "print(word.strip('Halo'))"
   ]
  },
  {
   "cell_type": "markdown",
   "metadata": {},
   "source": [
    "## Menggabungkan dan Memisahkan String"
   ]
  },
  {
   "cell_type": "code",
   "execution_count": 8,
   "metadata": {},
   "outputs": [
    {
     "name": "stdout",
     "output_type": "stream",
     "text": [
      "Indonesia   AI\n"
     ]
    }
   ],
   "source": [
    "#join\n",
    "print(' '.join(['Indonesia',' ','AI']))\n"
   ]
  },
  {
   "cell_type": "code",
   "execution_count": 9,
   "metadata": {},
   "outputs": [
    {
     "name": "stdout",
     "output_type": "stream",
     "text": [
      "['Indonesia ', ' AI']\n"
     ]
    }
   ],
   "source": [
    "#split\n",
    "print('Indonesia . AI'.split('.'))"
   ]
  },
  {
   "cell_type": "code",
   "execution_count": 10,
   "metadata": {},
   "outputs": [
    {
     "name": "stdout",
     "output_type": "stream",
     "text": [
      "['', ' tanah airku']\n"
     ]
    }
   ],
   "source": [
    "#split dalam bentuk variabel\n",
    "var = \"Indonesia tanah airku\"\n",
    "var_dua = var.split(\"Indonesia\")\n",
    "print(var_dua)"
   ]
  },
  {
   "cell_type": "markdown",
   "metadata": {},
   "source": [
    "# Mengganti Elemen Substring"
   ]
  },
  {
   "cell_type": "code",
   "execution_count": 11,
   "metadata": {},
   "outputs": [
    {
     "name": "stdout",
     "output_type": "stream",
     "text": [
      "Indonesia Tanah Airku\n"
     ]
    }
   ],
   "source": [
    "#replace\n",
    "nama = \"Indonesia Negaraku\"\n",
    "print(nama.replace('Negaraku', 'Tanah Airku'))\n"
   ]
  },
  {
   "cell_type": "code",
   "execution_count": 12,
   "metadata": {},
   "outputs": [
    {
     "name": "stdout",
     "output_type": "stream",
     "text": [
      "False\n"
     ]
    }
   ],
   "source": [
    "lower = \"aku cinta indonesia\"\n",
    "print(lower.isalpha())"
   ]
  },
  {
   "cell_type": "markdown",
   "metadata": {},
   "source": [
    "## Lain Lain"
   ]
  },
  {
   "cell_type": "code",
   "execution_count": 13,
   "metadata": {},
   "outputs": [
    {
     "name": "stdout",
     "output_type": "stream",
     "text": [
      "Adiyaksa\n"
     ]
    }
   ],
   "source": [
    "nama =\"adiyaksa\"\n",
    "print(nama.capitalize())"
   ]
  },
  {
   "cell_type": "code",
   "execution_count": 14,
   "metadata": {},
   "outputs": [
    {
     "name": "stdout",
     "output_type": "stream",
     "text": [
      "John Mc Dow\n"
     ]
    }
   ],
   "source": [
    "nama = \"john mc dow\"\n",
    "print(nama.title())"
   ]
  },
  {
   "cell_type": "markdown",
   "metadata": {},
   "source": [
    "# PERTEMUAN 2"
   ]
  },
  {
   "cell_type": "markdown",
   "metadata": {},
   "source": [
    "## Konversi Antar Tipe Data"
   ]
  },
  {
   "cell_type": "code",
   "execution_count": 15,
   "metadata": {},
   "outputs": [
    {
     "name": "stdout",
     "output_type": "stream",
     "text": [
      "<class 'int'>\n"
     ]
    }
   ],
   "source": [
    "#int to string\n",
    "angka = 1\n",
    "print(type(angka))"
   ]
  },
  {
   "cell_type": "code",
   "execution_count": 16,
   "metadata": {},
   "outputs": [
    {
     "name": "stdout",
     "output_type": "stream",
     "text": [
      "1\n",
      "<class 'str'>\n"
     ]
    }
   ],
   "source": [
    "angka_dua = str(angka)\n",
    "print(angka_dua)\n",
    "print(type(angka_dua))"
   ]
  },
  {
   "cell_type": "code",
   "execution_count": 17,
   "metadata": {},
   "outputs": [
    {
     "name": "stdout",
     "output_type": "stream",
     "text": [
      "<class 'float'>\n"
     ]
    }
   ],
   "source": [
    "#Str to Int\n",
    "angka = 1.5\n",
    "print(type(angka))"
   ]
  },
  {
   "cell_type": "code",
   "execution_count": 18,
   "metadata": {},
   "outputs": [
    {
     "name": "stdout",
     "output_type": "stream",
     "text": [
      "1\n"
     ]
    }
   ],
   "source": [
    "angka_dua = int(angka)\n",
    "print(angka_dua)\n"
   ]
  },
  {
   "cell_type": "markdown",
   "metadata": {},
   "source": []
  },
  {
   "cell_type": "code",
   "execution_count": 19,
   "metadata": {},
   "outputs": [
    {
     "name": "stdout",
     "output_type": "stream",
     "text": [
      "8.0\n"
     ]
    }
   ],
   "source": [
    "x = 8\n",
    "x_dua = float(x)\n",
    "print(x_dua)"
   ]
  },
  {
   "cell_type": "code",
   "execution_count": 20,
   "metadata": {},
   "outputs": [
    {
     "name": "stdout",
     "output_type": "stream",
     "text": [
      "Halo Semuanya\n"
     ]
    }
   ],
   "source": [
    "print('Halo {}'. format('Semuanya'))"
   ]
  },
  {
   "cell_type": "code",
   "execution_count": 21,
   "metadata": {},
   "outputs": [
    {
     "name": "stdout",
     "output_type": "stream",
     "text": [
      "Aku cinta indonesia\n"
     ]
    }
   ],
   "source": [
    "var = \"indonesia\"\n",
    "print('Aku cinta %s' % var)\n"
   ]
  },
  {
   "cell_type": "code",
   "execution_count": 22,
   "metadata": {},
   "outputs": [
    {
     "name": "stdout",
     "output_type": "stream",
     "text": [
      "Berhitung mulai dari 1234\n"
     ]
    }
   ],
   "source": [
    "var_dua = 1234\n",
    "print('Berhitung mulai dari %d' % var_dua)"
   ]
  },
  {
   "cell_type": "markdown",
   "metadata": {},
   "source": [
    "## Input Data"
   ]
  },
  {
   "cell_type": "code",
   "execution_count": 23,
   "metadata": {},
   "outputs": [
    {
     "name": "stdout",
     "output_type": "stream",
     "text": [
      "Siapa Nama Kamu?Tama\n",
      "<class 'str'>\n"
     ]
    }
   ],
   "source": [
    "nama_satu = input('Siapa Nama Kamu?')\n",
    "print(type(nama_satu))"
   ]
  },
  {
   "cell_type": "code",
   "execution_count": 24,
   "metadata": {},
   "outputs": [
    {
     "name": "stdout",
     "output_type": "stream",
     "text": [
      "Masukkan Angka: 45\n",
      "245\n"
     ]
    }
   ],
   "source": [
    "tambah = input(\"Masukkan Angka: \")\n",
    "tambah_dua = 200\n",
    "tambah_tiga = int(tambah) + 200\n",
    "print(tambah_tiga)"
   ]
  },
  {
   "cell_type": "markdown",
   "metadata": {},
   "source": [
    "## IF ELSE ELIF"
   ]
  },
  {
   "cell_type": "code",
   "execution_count": null,
   "metadata": {},
   "outputs": [],
   "source": []
  },
  {
   "cell_type": "code",
   "execution_count": 25,
   "metadata": {},
   "outputs": [
    {
     "name": "stdout",
     "output_type": "stream",
     "text": [
      "False\n",
      "ternyata 40 lebih kecil dari 100\n"
     ]
    }
   ],
   "source": [
    "y = 40 \n",
    "z = 200\n",
    "w = y > z \n",
    "print(w)\n",
    "if w == False:\n",
    "    print(\"ternyata 40 lebih kecil dari 100\")"
   ]
  },
  {
   "cell_type": "code",
   "execution_count": 26,
   "metadata": {},
   "outputs": [
    {
     "name": "stdout",
     "output_type": "stream",
     "text": [
      "Salah\n"
     ]
    }
   ],
   "source": [
    "var_x = 0 \n",
    "if var_x > 1:\n",
    "    print(\"5 besar dari 1\")\n",
    "else:\n",
    "    print(\"Salah\")"
   ]
  },
  {
   "cell_type": "code",
   "execution_count": 27,
   "metadata": {},
   "outputs": [
    {
     "name": "stdout",
     "output_type": "stream",
     "text": [
      "Masukkan angka: 98\n",
      "98 lebih besar 10\n"
     ]
    }
   ],
   "source": [
    "masukkan = int(input(\"Masukkan angka: \"))\n",
    "var_y = 10\n",
    "if masukkan < var_y:\n",
    "    print(masukkan, 'lebih kecil', var_y)\n",
    "else:\n",
    "    print(masukkan, 'lebih besar', var_y)"
   ]
  },
  {
   "cell_type": "code",
   "execution_count": 28,
   "metadata": {},
   "outputs": [
    {
     "name": "stdout",
     "output_type": "stream",
     "text": [
      "Masukkan Nama Anda!Rama\n",
      "Pukul berapa Anda datang?10\n",
      "Halo Rama\n",
      "Peringatan, Rama!\n"
     ]
    }
   ],
   "source": [
    "#elif\n",
    "your_name = input(\"Masukkan Nama Anda!\")\n",
    "time = int(input(\"Pukul berapa Anda datang?\"))\n",
    "masuk = 8\n",
    "limit = 10\n",
    "print(\"Halo\", your_name)\n",
    "if time < 8:\n",
    "    print(\"Wah, Anda sangat rajin, %s!\" % your_name)\n",
    "elif time == 8:\n",
    "    print(\"Anda tepat waktu, %s!\" % your_name)\n",
    "elif time > 8 and time <= limit:\n",
    "    print(\"Peringatan, %s!\" % your_name)\n",
    "else:\n",
    "    print(\"Anda kena SP\")"
   ]
  },
  {
   "cell_type": "markdown",
   "metadata": {},
   "source": [
    "## LOOP"
   ]
  },
  {
   "cell_type": "code",
   "execution_count": 29,
   "metadata": {},
   "outputs": [
    {
     "name": "stdout",
     "output_type": "stream",
     "text": [
      "saya ingin makan Bayam\n",
      "saya ingin makan Kangkung\n",
      "saya ingin makan Sawi\n"
     ]
    }
   ],
   "source": [
    "sayur = ['Bayam', 'Kangkung', 'Sawi']\n",
    "for elemen in sayur :\n",
    "    print(\"saya ingin makan %s\" % elemen)"
   ]
  },
  {
   "cell_type": "code",
   "execution_count": 30,
   "metadata": {},
   "outputs": [
    {
     "name": "stdout",
     "output_type": "stream",
     "text": [
      "1\n",
      "2\n",
      "3\n",
      "4\n",
      "5\n"
     ]
    }
   ],
   "source": [
    "angka_baris = [1,2,3,4,5]\n",
    "for nomor in angka_baris:\n",
    "    print(nomor)"
   ]
  },
  {
   "cell_type": "markdown",
   "metadata": {},
   "source": [
    "## While, Break, Pass \n"
   ]
  },
  {
   "cell_type": "code",
   "execution_count": null,
   "metadata": {},
   "outputs": [],
   "source": []
  },
  {
   "cell_type": "code",
   "execution_count": 31,
   "metadata": {},
   "outputs": [
    {
     "name": "stdout",
     "output_type": "stream",
     "text": [
      "2\n",
      "5\n",
      "8\n"
     ]
    }
   ],
   "source": [
    "t = 2\n",
    "while t < 10:\n",
    "    print(t)\n",
    "    t += 3"
   ]
  },
  {
   "cell_type": "code",
   "execution_count": 32,
   "metadata": {},
   "outputs": [
    {
     "name": "stdout",
     "output_type": "stream",
     "text": [
      "Masukkan Angka8\n",
      "1\n",
      "2\n",
      "3\n",
      "4\n",
      "5\n",
      "6\n",
      "7\n",
      "8\n",
      "Angka 8 ditemukan\n"
     ]
    }
   ],
   "source": [
    "isi_angka = int(input(\"Masukkan Angka\"))\n",
    "angka_z = [1,2,3,4,5,6,7,8,9,10]\n",
    "for a in angka_z:\n",
    "    print(a)\n",
    "    if a == isi_angka:\n",
    "        print(\"Angka %d ditemukan\" % isi_angka)\n",
    "        break\n",
    "    "
   ]
  },
  {
   "cell_type": "code",
   "execution_count": null,
   "metadata": {},
   "outputs": [],
   "source": []
  }
 ],
 "metadata": {
  "kernelspec": {
   "display_name": "Python 3",
   "language": "python",
   "name": "python3"
  },
  "language_info": {
   "codemirror_mode": {
    "name": "ipython",
    "version": 3
   },
   "file_extension": ".py",
   "mimetype": "text/x-python",
   "name": "python",
   "nbconvert_exporter": "python",
   "pygments_lexer": "ipython3",
   "version": "3.9.0"
  }
 },
 "nbformat": 4,
 "nbformat_minor": 4
}
