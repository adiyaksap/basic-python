{
 "cells": [
  {
   "cell_type": "code",
   "execution_count": 1,
   "metadata": {},
   "outputs": [
    {
     "name": "stdout",
     "output_type": "stream",
     "text": [
      "2\n",
      "4\n",
      "6\n",
      "7\n",
      "8\n",
      "9\n",
      "Angka 9 ditemukan\n"
     ]
    }
   ],
   "source": [
    "# Break\n",
    "nums = [2,4,6,7,8,9,10,11,12,14,16,17]\n",
    "for num in nums: \n",
    "    print(num)\n",
    "    if num == 9:\n",
    "        print(\"Angka 9 ditemukan\")\n",
    "        break\n",
    "        "
   ]
  },
  {
   "cell_type": "code",
   "execution_count": 2,
   "metadata": {},
   "outputs": [
    {
     "name": "stdout",
     "output_type": "stream",
     "text": [
      "11\n",
      "13\n",
      "15\n",
      "17\n",
      "19\n"
     ]
    }
   ],
   "source": [
    "# Continue\n",
    "numbers = [10,11,12,13,14,15,16,17,18,19,20]\n",
    "for n in numbers:\n",
    "    if n % 2 == 0:\n",
    "        continue\n",
    "    print(n)"
   ]
  },
  {
   "cell_type": "code",
   "execution_count": 3,
   "metadata": {},
   "outputs": [],
   "source": [
    "# Pass\n",
    "for x in range(1, 10):\n",
    "    pass\n",
    "if 9 < 10:\n",
    "    pass\n",
    "    "
   ]
  },
  {
   "cell_type": "markdown",
   "metadata": {},
   "source": [
    "## Python Function"
   ]
  },
  {
   "cell_type": "code",
   "execution_count": 4,
   "metadata": {},
   "outputs": [
    {
     "name": "stdout",
     "output_type": "stream",
     "text": [
      "Halo, selamat siang!\n"
     ]
    }
   ],
   "source": [
    "#mendefinisikan funciton\n",
    "def sapa(): \n",
    "    print(\"Halo, selamat siang!\")\n",
    "sapa()"
   ]
  },
  {
   "cell_type": "code",
   "execution_count": 5,
   "metadata": {},
   "outputs": [
    {
     "name": "stdout",
     "output_type": "stream",
     "text": [
      "Hai,  Tama selamat Pagi !\n"
     ]
    }
   ],
   "source": [
    "#Argument dan Parameter\n",
    "def greet(nama, waktu):\n",
    "    print(\"Hai, \", nama, \"selamat\", waktu, \"!\")\n",
    "greet(\"Tama\", \"Pagi\")"
   ]
  },
  {
   "cell_type": "code",
   "execution_count": 6,
   "metadata": {},
   "outputs": [
    {
     "name": "stdout",
     "output_type": "stream",
     "text": [
      "42\n",
      "100\n"
     ]
    }
   ],
   "source": [
    "def sums(x, y):\n",
    "    x = x*y\n",
    "    print(x)\n",
    "sums(6 , 7)\n",
    "sums(10,10)\n"
   ]
  },
  {
   "cell_type": "code",
   "execution_count": 7,
   "metadata": {},
   "outputs": [
    {
     "data": {
      "text/plain": [
       "10"
      ]
     },
     "execution_count": 7,
     "metadata": {},
     "output_type": "execute_result"
    }
   ],
   "source": [
    "# return\n",
    "def func():\n",
    "   return 7 + 3\n",
    "func()"
   ]
  },
  {
   "cell_type": "code",
   "execution_count": 8,
   "metadata": {},
   "outputs": [
    {
     "name": "stdout",
     "output_type": "stream",
     "text": [
      "Masukkan angka: 20\n"
     ]
    },
    {
     "data": {
      "text/plain": [
       "20000"
      ]
     },
     "execution_count": 8,
     "metadata": {},
     "output_type": "execute_result"
    }
   ],
   "source": [
    "number = int(input(\"Masukkan angka: \"))\n",
    "\n",
    "def angka(x):\n",
    "    if x <= 5: \n",
    "        return x * 10\n",
    "    else: \n",
    "        return x * 1000\n",
    "angka(number)\n"
   ]
  },
  {
   "cell_type": "code",
   "execution_count": 9,
   "metadata": {},
   "outputs": [
    {
     "name": "stdout",
     "output_type": "stream",
     "text": [
      "Nama:  Doni \n",
      "Umur:  17\n"
     ]
    }
   ],
   "source": [
    "# Default Parameter\n",
    "\n",
    "# fungsi umur\n",
    "def umur (nama, umur = '17'):\n",
    "    print(\"Nama: \", nama, \"\\nUmur: \", umur)\n",
    "umur(\"Doni\")\n"
   ]
  },
  {
   "cell_type": "code",
   "execution_count": 10,
   "metadata": {},
   "outputs": [
    {
     "name": "stdout",
     "output_type": "stream",
     "text": [
      "Nama:  Doni \n",
      "Umur:  30 \n",
      "Status:  Lajang \n",
      "Pekerjaan:  Dokter\n"
     ]
    }
   ],
   "source": [
    "# Keyword Parameter\n",
    "\n",
    "def user(nama, umur, status, pekerjaan):\n",
    "    print(\"Nama: \",nama, \"\\nUmur: \", umur, \"\\nStatus: \", status, \"\\nPekerjaan: \", pekerjaan)\n",
    "user(pekerjaan = \"Dokter\" , umur = 30, status = \"Lajang\", nama = \"Doni\")"
   ]
  },
  {
   "cell_type": "code",
   "execution_count": 11,
   "metadata": {},
   "outputs": [
    {
     "name": "stdout",
     "output_type": "stream",
     "text": [
      "Budi\n",
      "Doni\n",
      "Bayu\n"
     ]
    }
   ],
   "source": [
    "# *args \n",
    "\n",
    "def args(*nama):\n",
    "    for x in nama:\n",
    "        print(x)\n",
    "args(\"Budi\", \"Doni\", \"Bayu\")"
   ]
  },
  {
   "cell_type": "code",
   "execution_count": 12,
   "metadata": {},
   "outputs": [
    {
     "name": "stdout",
     "output_type": "stream",
     "text": [
      "nama: Nathan\n",
      "umur: 10\n",
      "Hobi: Otomotif\n",
      "\n",
      "nama: Roni\n",
      "umur: 20\n",
      "Hobi: Melukis\n"
     ]
    }
   ],
   "source": [
    "# **kwargs\n",
    "def bio(**data):\n",
    "    for key, value in data.items():\n",
    "        print(key, value, sep=\": \")\n",
    "\n",
    "bio(nama = \"Nathan\", umur = 10, Hobi = \"Otomotif\")\n",
    "print()\n",
    "bio(nama = \"Roni\", umur = 20, Hobi = \"Melukis\")"
   ]
  },
  {
   "cell_type": "code",
   "execution_count": 13,
   "metadata": {},
   "outputs": [
    {
     "data": {
      "text/plain": [
       "5.0"
      ]
     },
     "execution_count": 13,
     "metadata": {},
     "output_type": "execute_result"
    }
   ],
   "source": [
    "#Anonymous function\n",
    "\n",
    "bagi = lambda x, y: x/y\n",
    "bagi(10, 2)"
   ]
  },
  {
   "cell_type": "code",
   "execution_count": 14,
   "metadata": {},
   "outputs": [
    {
     "name": "stdout",
     "output_type": "stream",
     "text": [
      "[200, 220, 240, 260, 280, 300]\n"
     ]
    }
   ],
   "source": [
    "deret = [10, 11, 12, 13, 14, 15]\n",
    "\n",
    "hitung = map (lambda x: x*20, deret)\n",
    "print(list(hitung))"
   ]
  },
  {
   "cell_type": "code",
   "execution_count": 15,
   "metadata": {},
   "outputs": [
    {
     "name": "stdout",
     "output_type": "stream",
     "text": [
      "ini Global Scope\n",
      "Ini Local Scope\n"
     ]
    }
   ],
   "source": [
    "# local and global scope\n",
    "globalscope = \"ini Global Scope\"\n",
    "def gs():\n",
    "    localscope = \"Ini Local Scope\"\n",
    "    print(globalscope)\n",
    "    print(localscope)\n",
    "gs()"
   ]
  },
  {
   "cell_type": "code",
   "execution_count": 16,
   "metadata": {},
   "outputs": [
    {
     "name": "stdout",
     "output_type": "stream",
     "text": [
      "3.141592653589793\n"
     ]
    }
   ],
   "source": [
    "#Module\n",
    "import math\n",
    "\n",
    "pi = math.pi\n",
    "print(pi)"
   ]
  },
  {
   "cell_type": "code",
   "execution_count": 18,
   "metadata": {},
   "outputs": [
    {
     "name": "stdout",
     "output_type": "stream",
     "text": [
      "1\n"
     ]
    }
   ],
   "source": [
    "akar = math.sqrt(2)\n",
    "print(int(akar))"
   ]
  },
  {
   "cell_type": "code",
   "execution_count": 19,
   "metadata": {},
   "outputs": [
    {
     "name": "stdout",
     "output_type": "stream",
     "text": [
      "win32\n"
     ]
    }
   ],
   "source": [
    "import sys\n",
    "print(sys.platform)"
   ]
  },
  {
   "cell_type": "code",
   "execution_count": 24,
   "metadata": {},
   "outputs": [
    {
     "name": "stdout",
     "output_type": "stream",
     "text": [
      "time.struct_time(tm_year=2020, tm_mon=11, tm_mday=14, tm_hour=14, tm_min=55, tm_sec=44, tm_wday=5, tm_yday=319, tm_isdst=0)\n"
     ]
    }
   ],
   "source": [
    "import time\n",
    "\n",
    "print(time.localtime())\n"
   ]
  },
  {
   "cell_type": "code",
   "execution_count": null,
   "metadata": {},
   "outputs": [],
   "source": []
  }
 ],
 "metadata": {
  "kernelspec": {
   "display_name": "Python 3",
   "language": "python",
   "name": "python3"
  },
  "language_info": {
   "codemirror_mode": {
    "name": "ipython",
    "version": 3
   },
   "file_extension": ".py",
   "mimetype": "text/x-python",
   "name": "python",
   "nbconvert_exporter": "python",
   "pygments_lexer": "ipython3",
   "version": "3.9.0"
  }
 },
 "nbformat": 4,
 "nbformat_minor": 4
}
