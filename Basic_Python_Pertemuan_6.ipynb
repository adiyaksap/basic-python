{
 "cells": [
  {
   "cell_type": "markdown",
   "metadata": {},
   "source": [
    "## Class\n"
   ]
  },
  {
   "cell_type": "code",
   "execution_count": 1,
   "metadata": {},
   "outputs": [
    {
     "name": "stdout",
     "output_type": "stream",
     "text": [
      "Nama:  Werner No. Punggung:  16\n"
     ]
    }
   ],
   "source": [
    "class Pemain:\n",
    "    pass\n",
    "\n",
    "obj = Pemain()\n",
    "obj.nama = \"Werner\"\n",
    "obj.no_punggung = \"16\"\n",
    "print('Nama: ', obj.nama, 'No. Punggung: ', obj.no_punggung)"
   ]
  },
  {
   "cell_type": "markdown",
   "metadata": {},
   "source": [
    "## __Init__"
   ]
  },
  {
   "cell_type": "code",
   "execution_count": 2,
   "metadata": {},
   "outputs": [
    {
     "name": "stdout",
     "output_type": "stream",
     "text": [
      "Werner\n",
      "28\n"
     ]
    }
   ],
   "source": [
    "class Pemain:\n",
    "    def __init__(self):\n",
    "        self.nama = \"Werner\"\n",
    "        self.umur = \"28\"\n",
    "        \n",
    "Pemain = Pemain()\n",
    "print(Pemain.nama)\n",
    "print(Pemain.umur)"
   ]
  },
  {
   "cell_type": "code",
   "execution_count": 4,
   "metadata": {},
   "outputs": [
    {
     "name": "stdout",
     "output_type": "stream",
     "text": [
      "Namanya adalah Werner\n",
      "Dia bermain sebagai posisi FW\n",
      "Dia berumur 28\n",
      "dan bernomor punggung 20\n",
      "Kewarganegaraannya adalah Jerman\n"
     ]
    }
   ],
   "source": [
    "class Pemain:\n",
    "    nama = ''\n",
    "    umur = ''\n",
    "    posisi = ''\n",
    "    no_punggung =''\n",
    "    \n",
    "    def __init__(self, nama, umur, posisi, no_punggung):\n",
    "        self.nama = nama\n",
    "        self.umur = umur\n",
    "        self.posisi = posisi\n",
    "        self.no_punggung = no_punggung\n",
    "    \n",
    "    def getName(self):\n",
    "        return \"Namanya adalah \" + self.nama\n",
    "    \n",
    "    def getPosisi(self):\n",
    "        return \"Dia bermain sebagai posisi \" + self.posisi\n",
    "    \n",
    "    def getumur(self):\n",
    "        return \"Dia berumur \" + self.umur\n",
    "    \n",
    "    def getno_punggung(self):\n",
    "        return \"dan bernomor punggung \" + self.no_punggung\n",
    "    \n",
    "    def getCitizen(self, citizen):\n",
    "        return \"Kewarganegaraannya adalah \" + citizen\n",
    "        \n",
    "\n",
    "Pemain = Pemain('Werner', '28', 'FW', '20')\n",
    "#print(Pemain.nama)\n",
    "#print(Pemain.umur)\n",
    "print(Pemain.getName())\n",
    "print(Pemain.getPosisi())\n",
    "print(Pemain.getumur())\n",
    "print(Pemain.getno_punggung())\n",
    "print(Pemain.getCitizen('Jerman'))"
   ]
  },
  {
   "cell_type": "markdown",
   "metadata": {},
   "source": [
    "## Inheritance"
   ]
  },
  {
   "cell_type": "code",
   "execution_count": 10,
   "metadata": {},
   "outputs": [
    {
     "name": "stdout",
     "output_type": "stream",
     "text": [
      "Havertz\n"
     ]
    }
   ],
   "source": [
    "class Player:\n",
    "    nama = ''\n",
    "    def __init__(self, nama):\n",
    "        self.nama = nama\n",
    "\n",
    "plyr = Player('Havertz')\n",
    "print(plyr.nama)\n",
    "    \n",
    "    \n"
   ]
  },
  {
   "cell_type": "code",
   "execution_count": 38,
   "metadata": {},
   "outputs": [
    {
     "name": "stdout",
     "output_type": "stream",
     "text": [
      "Jika dikalikan: 900, jika dibagi: 0.1111111111111111, jika ditambah: 100, jika dikurang: -80\n"
     ]
    }
   ],
   "source": [
    "class OperasiBilangan:\n",
    "    angka_pertama = ''\n",
    "    angka_kedua = ''\n",
    "    \n",
    "    def __init__(self, angka_pertama, angka_kedua):\n",
    "        self.angka_pertama = angka_pertama\n",
    "        self.angka_kedua = angka_kedua\n",
    "        \n",
    "    def getTambah(self):\n",
    "        return self.angka_pertama + self.angka_kedua\n",
    "    def getKali(self):\n",
    "        return self.angka_pertama * self.angka_kedua\n",
    "    def getBagi(self):\n",
    "        return self.angka_pertama / self.angka_kedua\n",
    "    def getKurang(self):\n",
    "        return self.angka_pertama - self.angka_kedua\n",
    "ob = OperasiBilangan(10, 90)\n",
    "print('Jika dikalikan: {}, jika dibagi: {}, jika ditambah: {}, jika dikurang: {}'.format(ob.getKali(), ob.getBagi(), ob.getTambah(), ob.getKurang()))"
   ]
  },
  {
   "cell_type": "code",
   "execution_count": null,
   "metadata": {},
   "outputs": [],
   "source": []
  },
  {
   "cell_type": "code",
   "execution_count": null,
   "metadata": {},
   "outputs": [],
   "source": []
  }
 ],
 "metadata": {
  "kernelspec": {
   "display_name": "Python 3",
   "language": "python",
   "name": "python3"
  },
  "language_info": {
   "codemirror_mode": {
    "name": "ipython",
    "version": 3
   },
   "file_extension": ".py",
   "mimetype": "text/x-python",
   "name": "python",
   "nbconvert_exporter": "python",
   "pygments_lexer": "ipython3",
   "version": "3.9.0"
  }
 },
 "nbformat": 4,
 "nbformat_minor": 4
}
