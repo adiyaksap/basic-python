{
 "cells": [
  {
   "cell_type": "markdown",
   "metadata": {},
   "source": [
    "## Iterator"
   ]
  },
  {
   "cell_type": "code",
   "execution_count": 1,
   "metadata": {},
   "outputs": [
    {
     "name": "stdout",
     "output_type": "stream",
     "text": [
      "Halo\n",
      "Test\n",
      "Iterator\n"
     ]
    }
   ],
   "source": [
    "my_list = [\"Halo\",\"Test\",\"Iterator\"]\n",
    "for i in my_list:\n",
    "    print(i)"
   ]
  },
  {
   "cell_type": "code",
   "execution_count": 2,
   "metadata": {},
   "outputs": [
    {
     "name": "stdout",
     "output_type": "stream",
     "text": [
      "Halo\n",
      "Test\n",
      "Iterator\n",
      "Selesai\n"
     ]
    }
   ],
   "source": [
    "try:\n",
    "    iterator = iter(my_list)\n",
    "    print(next(iterator))\n",
    "    print(next(iterator))\n",
    "    print(next(iterator))\n",
    "    print(next(iterator))\n",
    "except StopIteration:\n",
    "    print(\"Selesai\")\n",
    "\n",
    "\n"
   ]
  },
  {
   "cell_type": "code",
   "execution_count": 3,
   "metadata": {
    "scrolled": true
   },
   "outputs": [
    {
     "name": "stdout",
     "output_type": "stream",
     "text": [
      "1\n",
      "2\n",
      "4\n",
      "8\n"
     ]
    }
   ],
   "source": [
    "class Angka:\n",
    "    def __init__(self, max = 0):\n",
    "        self.max = max\n",
    "        \n",
    "    def __iter__(self):\n",
    "        self.min = 0\n",
    "        return self\n",
    "    \n",
    "    def __next__(self):\n",
    "        if self.min <= self.max:\n",
    "            result = 2 ** self.min\n",
    "            self.min += 1\n",
    "            return result\n",
    "        else:\n",
    "            raise StopIteration\n",
    "            \n",
    "number = Angka(3)\n",
    "itr = iter(number)\n",
    "print(next(itr))\n",
    "print(next(itr))\n",
    "print(next(itr))\n",
    "print(next(itr))"
   ]
  },
  {
   "cell_type": "code",
   "execution_count": 4,
   "metadata": {},
   "outputs": [
    {
     "name": "stdout",
     "output_type": "stream",
     "text": [
      "1\n",
      "2\n",
      "4\n",
      "8\n"
     ]
    }
   ],
   "source": [
    "for i in number:\n",
    "    print(i)"
   ]
  },
  {
   "cell_type": "markdown",
   "metadata": {},
   "source": [
    "## Generator"
   ]
  },
  {
   "cell_type": "code",
   "execution_count": 5,
   "metadata": {},
   "outputs": [
    {
     "name": "stdout",
     "output_type": "stream",
     "text": [
      "Ini yang pertama\n",
      "1\n",
      "Ini yang kedua\n",
      "2\n",
      "Ini yang ketiga\n",
      "3\n",
      "ini yang ke empat\n",
      "4\n"
     ]
    }
   ],
   "source": [
    "def myGenerator():\n",
    "    x = 1\n",
    "    print(\"Ini yang pertama\")\n",
    "    yield x \n",
    "    \n",
    "    x += 1\n",
    "    print(\"Ini yang kedua\")\n",
    "    yield x\n",
    "    \n",
    "    x += 1\n",
    "    print(\"Ini yang ketiga\")\n",
    "    yield x\n",
    "    \n",
    "    x +=1\n",
    "    print(\"ini yang ke empat\")\n",
    "    yield x \n",
    "    \n",
    "itr = myGenerator()\n",
    "print(next(itr))\n",
    "print(next(itr))\n",
    "print(next(itr))\n",
    "print(next(itr))"
   ]
  },
  {
   "cell_type": "code",
   "execution_count": 8,
   "metadata": {},
   "outputs": [
    {
     "name": "stdout",
     "output_type": "stream",
     "text": [
      "l\n",
      "a\n",
      "i\n",
      "c\n",
      "i\n",
      "f\n",
      "t\n",
      "r\n",
      "A\n"
     ]
    }
   ],
   "source": [
    "def kata(my_word):\n",
    "    length = len(my_word)\n",
    "    for i in range (length - 1, -1, -1):\n",
    "        yield my_word[i]\n",
    "\n",
    "for x in kata(\"Artficial\"):\n",
    "    print(x)"
   ]
  },
  {
   "cell_type": "code",
   "execution_count": 11,
   "metadata": {},
   "outputs": [
    {
     "name": "stdout",
     "output_type": "stream",
     "text": [
      "H\n",
      "a\n",
      "l\n",
      "o\n"
     ]
    }
   ],
   "source": [
    "def myKata(my_word):\n",
    "    length = len(my_word)\n",
    "    for i in range(length):\n",
    "        yield my_word[i]\n",
    "\n",
    "for x in myKata(\"Halo\"):\n",
    "    print(x)\n",
    "        \n",
    "    "
   ]
  },
  {
   "cell_type": "markdown",
   "metadata": {},
   "source": [
    "## Closure"
   ]
  },
  {
   "cell_type": "code",
   "execution_count": 19,
   "metadata": {},
   "outputs": [
    {
     "name": "stdout",
     "output_type": "stream",
     "text": [
      "15\n"
     ]
    }
   ],
   "source": [
    "def times(x):\n",
    "    def dikaliDengan(y): \n",
    "        return x * y\n",
    "    return dikaliDengan\n",
    "\n",
    "times3 = times(3)\n",
    "\n",
    "print(times3(5))\n",
    "\n",
    "    \n"
   ]
  },
  {
   "cell_type": "code",
   "execution_count": null,
   "metadata": {},
   "outputs": [],
   "source": []
  }
 ],
 "metadata": {
  "kernelspec": {
   "display_name": "Python 3",
   "language": "python",
   "name": "python3"
  },
  "language_info": {
   "codemirror_mode": {
    "name": "ipython",
    "version": 3
   },
   "file_extension": ".py",
   "mimetype": "text/x-python",
   "name": "python",
   "nbconvert_exporter": "python",
   "pygments_lexer": "ipython3",
   "version": "3.9.0"
  }
 },
 "nbformat": 4,
 "nbformat_minor": 4
}
